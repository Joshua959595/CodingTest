{
  "nbformat": 4,
  "nbformat_minor": 0,
  "metadata": {
    "colab": {
      "provenance": []
    },
    "kernelspec": {
      "name": "python3",
      "display_name": "Python 3"
    },
    "language_info": {
      "name": "python"
    }
  },
  "cells": [
    {
      "cell_type": "markdown",
      "source": [
        "0. PM10_seoul.csv는 20221201 01:00 ~ 20221208 24:00까지 한 시간마다 측정한 미세먼지 농도 데이터이다. \n",
        "1. 시간에 따른 미세먼지 농도를 적절한 그래프로 시각화하라. (x축 이름은 date, y축 이름은 PM-10)\n",
        "2. 시간대별 평균 미세먼지 농도를 계산하라. (t=1,2,3,...,24)\n",
        "3. t 시점의 미세먼지 농도를 이전 시점을 이용하여 예측하는 모델을 학습하기 위한 데이터를 구성하시오.\n",
        "4. 3에서 만든 데이터를 활용하여 선형 회귀 모델을 학습하라."
      ],
      "metadata": {
        "id": "x7qnpbKQJZuu"
      }
    },
    {
      "cell_type": "code",
      "execution_count": 1,
      "metadata": {
        "colab": {
          "base_uri": "https://localhost:8080/"
        },
        "id": "8Zx-99XYJCNx",
        "outputId": "8195535e-2848-4694-8358-2ed3593c023a"
      },
      "outputs": [
        {
          "output_type": "stream",
          "name": "stdout",
          "text": [
            "Mounted at /content/drive\n"
          ]
        }
      ],
      "source": [
        "from google.colab import drive\n",
        "drive.mount('/content/drive')"
      ]
    },
    {
      "cell_type": "code",
      "source": [
        "import pandas as pd\n",
        "from matplotlib import pyplot as plt"
      ],
      "metadata": {
        "id": "lZCoa8rnKWA7"
      },
      "execution_count": 2,
      "outputs": []
    },
    {
      "cell_type": "code",
      "source": [
        "data = pd.read_csv('/content/drive/MyDrive/CodingTest/PM10_seoul.csv')\n",
        "\n",
        "data.dtypes\n",
        "data.head()"
      ],
      "metadata": {
        "id": "Z4js86ASOEKB"
      },
      "execution_count": null,
      "outputs": []
    },
    {
      "cell_type": "code",
      "source": [
        "# 1번\n",
        "\n",
        "plt.figure(figsize = (10,5))\n",
        "plt.plot(range(len(data)), data['PM-10'])\n",
        "plt.xlabel(\"date\")\n",
        "plt.ylabel(\"PM-10\")\n",
        "plt.show()"
      ],
      "metadata": {
        "id": "iph89cUxKV8O"
      },
      "execution_count": null,
      "outputs": []
    },
    {
      "cell_type": "code",
      "source": [
        "# 2번 \n",
        "# 1-1) str.split\n",
        "# 1-2) str.slice\n",
        "# 2) groupby"
      ],
      "metadata": {
        "id": "0QUp2g2o_rmk"
      },
      "execution_count": null,
      "outputs": []
    },
    {
      "cell_type": "code",
      "source": [
        "# 2번 (시간대별 평균 농도)\n",
        "\n",
        "# 1-1) str.split\n",
        "data['time'] = data['date'].str.split(':', expand=True).iloc[:,1]\n",
        "data['time']\n",
        "\n",
        "# 1-2) str.slice\n",
        "#data['time'] = data['date'].str.slice(-2,)\n",
        "#data['time']\n",
        "\n",
        "# 2) groupby\n",
        "data.groupby('time')['PM-10'].mean()"
      ],
      "metadata": {
        "id": "QPPZHFN_NJJN"
      },
      "execution_count": null,
      "outputs": []
    },
    {
      "cell_type": "code",
      "source": [
        "# 3번 문제\n",
        "\n",
        "for k in range(1,5):\n",
        "  data['PM-10_' + str(k)] = data['PM-10'].shift(-k)\n",
        "\n",
        "data.dropna(inplace=True)\n",
        "data = data.drop(['date', 'time'], axis = 1)\n",
        "data\n"
      ],
      "metadata": {
        "id": "zBwzz-qtKVjz"
      },
      "execution_count": null,
      "outputs": []
    },
    {
      "cell_type": "code",
      "source": [
        "'''\n",
        "# shift 함수 연습\n",
        "\n",
        "idx = pd.date_range(start='2022-01-01', periods = 5, freq = '2Y') # freq -> Y, M, D, H, T, S\n",
        "df = {'col1' : [10, 20, 30, 40, 50], 'col2':[1,4,6,7,8], 'col3':[43, 12, 82, 47, 6]}\n",
        "df = pd.DataFrame(data=df, index=idx)\n",
        "print(df)\n",
        "\n",
        "print(df.shift(periods=2, axis=1, fill_value='-'))\n",
        "'''"
      ],
      "metadata": {
        "id": "mwUogG9ADu3D"
      },
      "execution_count": null,
      "outputs": []
    },
    {
      "cell_type": "code",
      "source": [
        "# 4번 문제\n",
        "\n",
        "X = data.drop('PM-10', axis = 1)\n",
        "y = data['PM-10']\n",
        "\n",
        "from sklearn.linear_model import LinearRegression\n",
        "model = LinearRegression().fit(X,y)"
      ],
      "metadata": {
        "id": "cf1zvh6MQ5a2"
      },
      "execution_count": 109,
      "outputs": []
    },
    {
      "cell_type": "code",
      "source": [
        "print(\"모델 계수: {}\".format(model.coef_))\n",
        "print(\"모델 절편: {}\".format(model.intercept_))\n",
        "print(\"모델 점수: {:.2f}\".format(model.score(X,y)))"
      ],
      "metadata": {
        "colab": {
          "base_uri": "https://localhost:8080/"
        },
        "id": "yG2hvZZhMgah",
        "outputId": "89950f49-bc11-4c40-f6bf-d24fbf43ae0e"
      },
      "execution_count": 130,
      "outputs": [
        {
          "output_type": "stream",
          "name": "stdout",
          "text": [
            "모델 계수: [ 1.13476648 -0.3013629   0.12396585 -0.09643159]\n",
            "모델 절편: 3.4666499343496646\n",
            "모델 점수: 0.82\n"
          ]
        }
      ]
    }
  ]
}