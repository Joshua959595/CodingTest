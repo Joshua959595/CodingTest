{
  "nbformat": 4,
  "nbformat_minor": 0,
  "metadata": {
    "colab": {
      "provenance": []
    },
    "kernelspec": {
      "name": "python3",
      "display_name": "Python 3"
    },
    "language_info": {
      "name": "python"
    }
  },
  "cells": [
    {
      "cell_type": "markdown",
      "source": [
        "* n : 산에 있는 나무의 수 & 나무를 베러 가는 일 수\n",
        "* H1-Hn : 첫 날 각각의 나무의 길이\n",
        "* A1-An : 각각의 나무가 다음 날까지 성장하는 양\n",
        "\n",
        "* 나무를 잘라서 구할 수 있는 최대의 양은?\n",
        "* (하루에 나무 하나씩 )"
      ],
      "metadata": {
        "id": "3LlV_vD3u8z0"
      }
    },
    {
      "cell_type": "code",
      "execution_count": 41,
      "metadata": {
        "colab": {
          "base_uri": "https://localhost:8080/"
        },
        "id": "86LrSuM2uy9v",
        "outputId": "4caa9903-d2b3-45a5-98ee-5af3cbf4cc8b"
      },
      "outputs": [
        {
          "name": "stdout",
          "output_type": "stream",
          "text": [
            "5\n",
            "1 3 2 4 6\n",
            "2 7 3 4 1\n"
          ]
        }
      ],
      "source": [
        "import sys\n",
        "\n",
        "n = int(sys.stdin.readline())\n",
        "H = list(map(int, sys.stdin.readline().split()))\n",
        "A = list(map(int, sys.stdin.readline().split()))"
      ]
    },
    {
      "cell_type": "code",
      "source": [
        "print(H)\n",
        "print(A)"
      ],
      "metadata": {
        "colab": {
          "base_uri": "https://localhost:8080/"
        },
        "id": "ghSSUOHn7wI8",
        "outputId": "3ba31795-fa5e-44e3-b817-1922d35ea99a"
      },
      "execution_count": 43,
      "outputs": [
        {
          "output_type": "stream",
          "name": "stdout",
          "text": [
            "[1, 3, 2, 4, 6]\n",
            "[2, 7, 3, 4, 1]\n"
          ]
        }
      ]
    },
    {
      "cell_type": "code",
      "source": [
        "I = list(range(n))\n",
        "I = sorted(I, key=lambda i: A[i])\n",
        "print(I)"
      ],
      "metadata": {
        "colab": {
          "base_uri": "https://localhost:8080/"
        },
        "id": "XTW38Z9yz7H8",
        "outputId": "c557c907-d50d-4d62-ae9e-7dfe7164984e"
      },
      "execution_count": 47,
      "outputs": [
        {
          "output_type": "stream",
          "name": "stdout",
          "text": [
            "[4, 0, 2, 3, 1]\n"
          ]
        }
      ]
    },
    {
      "cell_type": "code",
      "source": [
        "ans = 0\n",
        "for i in range (n):\n",
        "  index = I[i]\n",
        "  ans += H[index] + i * A[index]\n",
        "\n",
        "print(ans)\n"
      ],
      "metadata": {
        "colab": {
          "base_uri": "https://localhost:8080/"
        },
        "id": "hEIgoZcC0Qw7",
        "outputId": "5583c253-8dbc-4125-d502-18609db86375"
      },
      "execution_count": 49,
      "outputs": [
        {
          "output_type": "stream",
          "name": "stdout",
          "text": [
            "64\n"
          ]
        }
      ]
    }
  ]
}