{
  "nbformat": 4,
  "nbformat_minor": 0,
  "metadata": {
    "colab": {
      "provenance": []
    },
    "kernelspec": {
      "name": "python3",
      "display_name": "Python 3"
    },
    "language_info": {
      "name": "python"
    }
  },
  "cells": [
    {
      "cell_type": "markdown",
      "source": [
        "* 문제: 그리디\n",
        "\n",
        "1. N개의 빨대를 보유\n",
        "2. 보유한 빨대 중 3개의 빨대를 선택\n",
        "3. 삼각형 가능 -> 세 변의 길이 합의 최댓값\n",
        "4. 삼각형 불가능 -> -1 출력\n",
        "\n",
        "* 삼각형의 조건\n",
        "- 세 변 중, (가장 긴 변의 길이) < (다른 두 변의 길이 합)"
      ],
      "metadata": {
        "id": "rQRqYDM9y_qe"
      }
    },
    {
      "cell_type": "code",
      "execution_count": 24,
      "metadata": {
        "colab": {
          "base_uri": "https://localhost:8080/"
        },
        "id": "zxD-btFeyNXX",
        "outputId": "c6c3e9d1-e073-4b79-88cb-2cad305e68b8"
      },
      "outputs": [
        {
          "output_type": "stream",
          "name": "stdout",
          "text": [
            "5\n",
            "4\n",
            "5\n",
            "6\n",
            "7\n",
            "20\n",
            "[4, 5, 6, 7, 20]\n"
          ]
        }
      ],
      "source": [
        "N = int(input())\n",
        "T = []\n",
        "\n",
        "for i in range(N):\n",
        "  a = int(input())\n",
        "  T.append(a)\n",
        "\n",
        "print(T)"
      ]
    },
    {
      "cell_type": "code",
      "source": [
        "def CalcMaxTri(candi):\n",
        "  candi.sort()\n",
        "  total = -1\n",
        "  for i in range(N-1, 1, -1): # idx 0, 1이 제일 긴 변이 될 수는 없으니...\n",
        "    for j in range(N-2, 0, -1): # idx 0이 중간 긴 변이 될 수도 없음\n",
        "      for k in range(N-3, -1, -1): \n",
        "        if candi[i] < candi[j]+candi[k]:\n",
        "          try:\n",
        "            if candi[i]+candi[j]+candi[k] > total:\n",
        "              total = candi[i]+candi[j]+candi[k]\n",
        "          except:\n",
        "            total = candi[i]+candi[j]+candi[k]\n",
        "  return total"
      ],
      "metadata": {
        "id": "HKPc_D-a8RwY"
      },
      "execution_count": 36,
      "outputs": []
    },
    {
      "cell_type": "code",
      "source": [
        "CalcMaxTri(T)\n"
      ],
      "metadata": {
        "colab": {
          "base_uri": "https://localhost:8080/"
        },
        "id": "OSagsaTi_0er",
        "outputId": "92301e57-b974-4062-a84e-cd79ea05afdc"
      },
      "execution_count": 37,
      "outputs": [
        {
          "output_type": "execute_result",
          "data": {
            "text/plain": [
              "20"
            ]
          },
          "metadata": {},
          "execution_count": 37
        }
      ]
    },
    {
      "cell_type": "markdown",
      "source": [
        "* 결과: 시간초과\n"
      ],
      "metadata": {
        "id": "HyC6btUyDfEJ"
      }
    },
    {
      "cell_type": "code",
      "source": [
        "N = int(input())\n",
        "A = [int(input()) for _ in range(N)]"
      ],
      "metadata": {
        "colab": {
          "base_uri": "https://localhost:8080/"
        },
        "id": "gmywkAAjDf0n",
        "outputId": "7d2f1d2a-448b-4f87-cfe6-e2da5475679c"
      },
      "execution_count": 39,
      "outputs": [
        {
          "name": "stdout",
          "output_type": "stream",
          "text": [
            "5\n",
            "4\n",
            "5\n",
            "6\n",
            "7\n",
            "20\n"
          ]
        }
      ]
    },
    {
      "cell_type": "code",
      "source": [
        "A.sort()\n",
        "\n",
        "answer = -1\n",
        "\n",
        "for i in range(N-1, 1, -1):\n",
        "  if A[i] < A[i-1] + A[i-2]:\n",
        "    answer = A[i] + A[i-1] + A[i-2]\n",
        "    break\n",
        "  \n",
        "print(answer)"
      ],
      "metadata": {
        "id": "EUwYUTv6FEM_"
      },
      "execution_count": null,
      "outputs": []
    }
  ]
}