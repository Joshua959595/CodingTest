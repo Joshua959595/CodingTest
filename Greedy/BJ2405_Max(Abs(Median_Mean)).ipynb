{
  "nbformat": 4,
  "nbformat_minor": 0,
  "metadata": {
    "colab": {
      "provenance": []
    },
    "kernelspec": {
      "name": "python3",
      "display_name": "Python 3"
    },
    "language_info": {
      "name": "python"
    }
  },
  "cells": [
    {
      "cell_type": "markdown",
      "source": [
        "* A[i], A[2], ..., A[n]이 있다.\n",
        "* A 중 (서로 다른) 세 정수 i, j, k를 선정\n",
        "* Median과 Mean의 차이가 최대가 되도록 하는 i, j, k를 뽑으시오.\n",
        "* 출력: abs(median-mean) * 3"
      ],
      "metadata": {
        "id": "W9Jf-xMIu5u9"
      }
    },
    {
      "cell_type": "code",
      "execution_count": null,
      "metadata": {
        "id": "mO9eex2yuNM9"
      },
      "outputs": [],
      "source": [
        "n = int(input())\n",
        "A = list()\n",
        "for i in range (n):\n",
        "  A.append(int(input())) "
      ]
    },
    {
      "cell_type": "code",
      "source": [
        "globalMax = -1\n",
        "localMax = -1"
      ],
      "metadata": {
        "id": "LR-goyOzyxd9"
      },
      "execution_count": 38,
      "outputs": []
    },
    {
      "cell_type": "code",
      "source": [
        "for i in range (n-2):\n",
        "  for j in range (1,n-1):\n",
        "    for k in range (2,n):\n",
        "      if (i>=j or j>=k):\n",
        "        continue  # continue가 최선을 아닐 것 같은데\n",
        "      sum = A[i] + A[j] + A[k]\n",
        "      median = sum-max(A[i], A[j], A[k])-min(A[i], A[j], A[k])  # median을 무식하게 구했는데 다른 방법이 있을 듯\n",
        "      mean = sum/3\n",
        "      localMax = abs(median-mean)\n",
        "      if localMax > globalMax:\n",
        "        globalMax = localMax\n",
        "\n",
        "print(globalMax*3)"
      ],
      "metadata": {
        "colab": {
          "base_uri": "https://localhost:8080/"
        },
        "id": "OUZe2h8vxXUg",
        "outputId": "2ebb7e8d-0c03-401d-da12-39aa69940584"
      },
      "execution_count": 39,
      "outputs": [
        {
          "output_type": "stream",
          "name": "stdout",
          "text": [
            "116.33333333333334\n",
            "349.0\n"
          ]
        }
      ]
    },
    {
      "cell_type": "markdown",
      "source": [
        "* 시간초과... \n",
        "1. sort를 안쓰고 싶어서 sum-max()-min()이라는 무시무시한걸해버렸다\n",
        "2. for를 세개나 돌리면서 필요없는 걸 continue로 빼버리는 기적의 효율"
      ],
      "metadata": {
        "id": "P3YsZ4es6WpS"
      }
    },
    {
      "cell_type": "code",
      "source": [
        "import sys\n",
        "\n",
        "def f(a, b, c):\n",
        "  return abs((a + b + c) - (3*b)) \n",
        "  # (a + b + c) = 평균 x 3\n",
        "  # 중앙값 x 3 = 3 * b\n",
        "\n",
        "N = int(sys.stdin.readline())\n",
        "A = [int(sys.stdin.readline()) for _ in range(N)]\n",
        "\n",
        "A.sort()\n",
        "\n",
        "answer = -1\n",
        "\n",
        "for i in range(1, N-1):\n",
        "  answer = max(answer, f(A[i-1], A[i], A[N-1]))\n",
        "  answer = max(answer, f(A[0], A[i], A[i+1]))\n",
        "\n",
        "print(answer)"
      ],
      "metadata": {
        "id": "mkMy7PM3zs5x"
      },
      "execution_count": 40,
      "outputs": []
    },
    {
      "cell_type": "code",
      "source": [],
      "metadata": {
        "id": "DfKxwzmezK0l"
      },
      "execution_count": null,
      "outputs": []
    },
    {
      "cell_type": "code",
      "source": [],
      "metadata": {
        "id": "YncgAC1uzl4r"
      },
      "execution_count": null,
      "outputs": []
    }
  ]
}