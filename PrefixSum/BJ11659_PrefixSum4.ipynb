{
  "nbformat": 4,
  "nbformat_minor": 0,
  "metadata": {
    "colab": {
      "provenance": []
    },
    "kernelspec": {
      "name": "python3",
      "display_name": "Python 3"
    },
    "language_info": {
      "name": "python"
    }
  },
  "cells": [
    {
      "cell_type": "markdown",
      "source": [
        "* N: 리스트 내의 숫자\n",
        "* i, j: i번째부터 j번째까지의 합\n",
        "* M: 문제의 수\n"
      ],
      "metadata": {
        "id": "GmZAZTn9vsO0"
      }
    },
    {
      "cell_type": "code",
      "execution_count": 6,
      "metadata": {
        "colab": {
          "base_uri": "https://localhost:8080/"
        },
        "id": "yYfymTw0vXEW",
        "outputId": "5597f9dc-ca36-4eb6-a140-f7325439a5fd"
      },
      "outputs": [
        {
          "output_type": "stream",
          "name": "stdout",
          "text": [
            "5 3\n",
            "5 4 3 2 1\n",
            "1 3\n",
            "2 4\n",
            "5 5\n",
            "12\n",
            "9\n",
            "1\n"
          ]
        }
      ],
      "source": [
        "N, M = map(int, input().split())\n",
        "A = list(map(int, input().split()))\n",
        "answer = []\n",
        "ans = 0\n",
        "for p in range (M):\n",
        "  i, j = map(int, input().split())\n",
        "  i -= 1\n",
        "  for q in range(i,j):\n",
        "    ans += A[q]\n",
        "  answer.append(ans)\n",
        "  ans = 0\n",
        "for r in range(M):\n",
        "  print(answer[r])\n"
      ]
    },
    {
      "cell_type": "code",
      "source": [
        "import sys\n",
        "\n",
        "# 입력\n",
        "N, M = map(int, sys.stdin.readline().split())\n",
        "a = list(map(int,  sys.stdin.readline().split()))\n",
        "\n",
        "# 누적합 구하기\n",
        "psum = [0] * N\n",
        "psum[0] = a[0]\n",
        "for i in range(1, N):\n",
        "  psum[i] = psum[i-1] + a[i]\n",
        "\n",
        "# 쿼리\n",
        "for _ in range(M):\n",
        "  a, b = map(int, sys.stdin.readline().split())\n",
        "\n",
        "  if a == 1:\n",
        "    answer = psum[b-1]\n",
        "  else:\n",
        "    answer = psum[b-1] - psum[a-2]\n",
        "\n",
        "print(answer)"
      ],
      "metadata": {
        "id": "nwRm0drVv6Dz"
      },
      "execution_count": null,
      "outputs": []
    }
  ]
}