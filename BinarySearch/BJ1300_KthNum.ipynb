{
  "nbformat": 4,
  "nbformat_minor": 0,
  "metadata": {
    "colab": {
      "provenance": []
    },
    "kernelspec": {
      "name": "python3",
      "display_name": "Python 3"
    },
    "language_info": {
      "name": "python"
    }
  },
  "cells": [
    {
      "cell_type": "markdown",
      "source": [
        "* 문제:\n",
        "1) N x N 의 배열 A\n",
        "2) A의 인덱스 A[i][j] = ixj\n",
        "\n",
        "3) 이를 일차원 배열 B에 넣음\n",
        "4) B를 오름차순으로 정렬했을 때 B[k]=?\n",
        "즉, K번째 수를 구하라"
      ],
      "metadata": {
        "id": "YIPRrCnM8xss"
      }
    },
    {
      "cell_type": "code",
      "source": [
        "'''\n",
        "예제입력 1\n",
        "3\n",
        "7\n",
        "예제출력 1\n",
        "6\n",
        "'''"
      ],
      "metadata": {
        "id": "imTqaA-K9P3j"
      },
      "execution_count": null,
      "outputs": []
    },
    {
      "cell_type": "code",
      "source": [
        "  1 2 3 4 5\n",
        "1 1 2 3 4 5\n",
        "2 2 4 6 8 10\n",
        "3 3 6 9\n",
        "4\n",
        "5"
      ],
      "metadata": {
        "id": "B93bWjuI_R2c"
      },
      "execution_count": null,
      "outputs": []
    },
    {
      "cell_type": "code",
      "execution_count": null,
      "metadata": {
        "id": "jAfPR4Af8lyF"
      },
      "outputs": [],
      "source": [
        "N = int(input())\n",
        "K = int(input())\n",
        "row = 1\n",
        "A = []\n",
        "\n",
        "while row <= N:\n",
        "  for i in range (1,N+1):\n",
        "    A.append(row*i)\n",
        "  row += 1\n",
        "\n",
        "A.sort()  # sort(reverse=True) : 내림차순\n",
        "print(A[K-1])\n",
        "\n",
        "'''\n",
        "sort() 정렬은 메모리를 엄청엄청 먹음\n",
        "이분 탐색으로 할 수 있는 걸 메모리를 너무 많이 먹어버렸다\n",
        "'''"
      ]
    },
    {
      "cell_type": "markdown",
      "source": [
        "만약, X가 어떤 배열에서 K번째로 작은 수라면\n",
        "* X보다 작은 수: (K-1)개 이하 있음\n",
        "* X보다 큰 수: (N-K)개 이하 있음\n"
      ],
      "metadata": {
        "id": "vjHyECLrFmHV"
      }
    },
    {
      "cell_type": "code",
      "source": [
        "'''\n",
        "    1   1   2   3   3   6   7   7   8   9   9  10  10  10  15  17\n",
        "작  0   0   2   3   3   5   6   6   8   9   9  11  11  11  14  15\n",
        "큰  14  14  13  11  11  10  8   8   7   5   5   2   2   2   1   0\n",
        "\n",
        "위의 두 조건을 만족하는 수는 고유함!\n",
        "'''"
      ],
      "metadata": {
        "id": "_kHCAbxwFDa1"
      },
      "execution_count": null,
      "outputs": []
    },
    {
      "cell_type": "code",
      "source": [
        "'''\n",
        "Ex) 5x5에서 17번째 수\n",
        "1) [1~25]인 행렬이 나올 것\n",
        "조건: 17번째보다 작은 수는 16개 이하로 있어야 하고,\n",
        "      17번째보다 작은 수는 8개 이하로 있어야 함.\n",
        "2) (1+25)//2 = 13. 13을 보면,\n",
        "   13보다 작은 수는 19개\n",
        "   13보다 큰 수는 6개\n",
        "3) 목표숫자보다 작은 수가 너무 많다 => 내가 더 작아져야 한다 => (1~12) 중에 있겠다!\n",
        "4) (0+12)//2 = 6. 6을 보면\n",
        "   6보다 작은 수는 10개\n",
        "   6보다 큰 수는 13개\n",
        "5) 목표숫자보다 큰 수가 너무 많다 => 내가 더 커져야 한다 => (7~12) 중에 있겠다!\n",
        "6) (7+12)//2 = 8. 8을 보면\n",
        "   8보다 작은 수는 12개\n",
        "   8보다 큰 수는 11개\n",
        "7) 목표숫자보다 큰 수가 너무 많다 => (9~12) 중에 있겠다!\n",
        "8) (9+12)//2 = 10\n",
        "   10보다 작은 수는 15개\n",
        "   10보다 큰 수는 8개\n",
        "9) 조건을 만족하므로 답은 10\n",
        "'''"
      ],
      "metadata": {
        "id": "tqLUcURYIEte"
      },
      "execution_count": null,
      "outputs": []
    },
    {
      "cell_type": "code",
      "source": [
        "n = int(input())\n",
        "k = int(input())"
      ],
      "metadata": {
        "colab": {
          "base_uri": "https://localhost:8080/"
        },
        "id": "uPPfeFVEKvP0",
        "outputId": "a66e3c9a-8319-4280-9312-05aed5b9e5dd"
      },
      "execution_count": 12,
      "outputs": [
        {
          "name": "stdout",
          "output_type": "stream",
          "text": [
            "3\n",
            "7\n"
          ]
        }
      ]
    },
    {
      "cell_type": "code",
      "source": [
        "def get_num_smaller(x: int) -> int:\n",
        "  # n x n 배열에서 x보다 작은 수의 개수를 구하여 반환\n",
        "  num_smaller = 0\n",
        "  for i in range(1, n+1):\n",
        "    num_smaller += min(n, (x-1)//i)\n",
        "  return num_smaller\n",
        "\n",
        "def get_num_bigger(x: int) -> int:\n",
        "  num_bigger = 0\n",
        "  for i in range(1, n+1):\n",
        "    num_bigger += n - min(n, x//i)\n",
        "  return num_bigger"
      ],
      "metadata": {
        "id": "nrRWuyEiIe2Q"
      },
      "execution_count": 13,
      "outputs": []
    },
    {
      "cell_type": "code",
      "source": [
        "low = 1\n",
        "high = min(n*n, int(1e9))\n",
        "answer = -1\n",
        "\n",
        "while low <= high:\n",
        "  mid = (low + high) //2\n",
        "\n",
        "  num_smaller = get_num_smaller(mid)\n",
        "  num_bigger = get_num_bigger(mid)\n",
        "\n",
        "  if num_smaller > k-1:\n",
        "    high = mid - 1\n",
        "  elif num_bigger > n*n-k:\n",
        "    low = mid + 1\n",
        "  else:\n",
        "    answer = mid\n",
        "    break\n",
        "print(answer)"
      ],
      "metadata": {
        "colab": {
          "base_uri": "https://localhost:8080/"
        },
        "id": "LedSVseSMYmT",
        "outputId": "bf4fc321-0a3b-425d-ad10-7eaa208f7d99"
      },
      "execution_count": 14,
      "outputs": [
        {
          "output_type": "stream",
          "name": "stdout",
          "text": [
            "6\n"
          ]
        }
      ]
    }
  ]
}